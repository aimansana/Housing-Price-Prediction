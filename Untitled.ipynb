{
 "cells": [
  {
   "cell_type": "code",
   "execution_count": null,
   "id": "e9e74666-94ff-466d-a028-efa76d47c347",
   "metadata": {},
   "outputs": [],
   "source": [
    "import pandas as pd\n",
    "\n",
    "#read data file\n",
    "file_path ='C:/Users/Habbeeba/Projects/kaggle-ML1/melb_data.csv'\n",
    "file_data=pd.read_csv(file_path)\n",
    "print(file_data.columns)"
   ]
  },
  {
   "cell_type": "code",
   "execution_count": null,
   "id": "145fc412-3baf-42f7-9f22-6e235df0c62e",
   "metadata": {},
   "outputs": [],
   "source": [
    "\n",
    "#remove empty entries\n",
    "file_data=file_data.dropana(axis=0)\n",
    "\n",
    "#summerize data\n",
    "print(file_data.describe())"
   ]
  }
 ],
 "metadata": {
  "kernelspec": {
   "display_name": "Python 3 (ipykernel)",
   "language": "python",
   "name": "python3"
  },
  "language_info": {
   "codemirror_mode": {
    "name": "ipython",
    "version": 3
   },
   "file_extension": ".py",
   "mimetype": "text/x-python",
   "name": "python",
   "nbconvert_exporter": "python",
   "pygments_lexer": "ipython3",
   "version": "3.11.9"
  }
 },
 "nbformat": 4,
 "nbformat_minor": 5
}
